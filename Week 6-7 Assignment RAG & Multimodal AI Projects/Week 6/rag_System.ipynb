{
 "cells": [
  {
   "cell_type": "markdown",
   "id": "65d6370c",
   "metadata": {},
   "source": [
    "# Upload PDF"
   ]
  },
  {
   "cell_type": "code",
   "execution_count": 36,
   "id": "bc766ab4",
   "metadata": {},
   "outputs": [],
   "source": [
    "# PyPDFLoader (it is easy prebuild in the langchain)\n",
    "from langchain_community.document_loaders import PyPDFLoader\n",
    "#Load PDF and split the pages \n",
    "loader = PyPDFLoader(\"Research papers for BSCS.pdf\")\n",
    "pages = loader.load_and_split()"
   ]
  },
  {
   "cell_type": "code",
   "execution_count": 37,
   "id": "c28920c0",
   "metadata": {},
   "outputs": [
    {
     "data": {
      "text/plain": [
       "29"
      ]
     },
     "execution_count": 37,
     "metadata": {},
     "output_type": "execute_result"
    }
   ],
   "source": [
    "#Check the total pages\n",
    "len(pages)"
   ]
  },
  {
   "cell_type": "code",
   "execution_count": 40,
   "id": "148e206f",
   "metadata": {},
   "outputs": [
    {
     "data": {
      "text/plain": [
       "Document(metadata={'producer': 'Acrobat Distiller 8.1.0 (Windows)', 'creator': 'Elsevier', 'creationdate': '2025-09-26T16:27:47+00:00', 'crossmarkdomains[1]': 'elsevier.com', 'creationdate--text': '26th September 2025', 'robots': 'noindex', 'elsevierwebpdfspecifications': '7.0.1', 'moddate': '2025-09-26T16:37:55+00:00', 'doi': '10.1016/j.rser.2025.116345', 'title': 'Leveraging machine learning for optimized microgrid management: Advances, applications, challenges, and future directions', 'keywords': 'Microgrid management,Machine learning applications,Edge computing,Federated learning,Generative AI,Renewable energy,Fault detection,Load prediction,Sustainable energy systems', 'subject': 'Renewable and Sustainable Energy Reviews, 226 (2026) 116345. doi:10.1016/j.rser.2025.116345', 'crossmarkdomains[2]': 'sciencedirect.com', 'author': 'Gaurav Singh Negi', 'source': 'Research papers for BSCS.pdf', 'total_pages': 14, 'page': 2, 'page_label': '3'}, page_content='microgrids\\nSupervised, Unsupervised, RL, DL, \\nGenerative AI\\nIncludes model comparisons, SDG mapping, case \\nstudies, and future directions\\nN/A\\nFig. 1. Microgrid development progress chart.\\nFig. 2. Structure of the paper.\\nG.S. Negi et al.                                                                                                                                                                                                                                  Renewable and Sustainable Energy Reviews 226 (2026) 116345 \\n3')"
      ]
     },
     "execution_count": 40,
     "metadata": {},
     "output_type": "execute_result"
    }
   ],
   "source": [
    "# Print the page 5\n",
    "pages[5]"
   ]
  },
  {
   "cell_type": "code",
   "execution_count": 41,
   "id": "c42b7186",
   "metadata": {},
   "outputs": [],
   "source": [
    "#  Split the text into small chunks\n",
    "from langchain.text_splitter import RecursiveCharacterTextSplitter\n",
    "splitter = RecursiveCharacterTextSplitter(chunk_size =2000 ,chunk_overlap =100)\n",
    "\n",
    "documents =splitter.split_documents(pages)"
   ]
  },
  {
   "cell_type": "code",
   "execution_count": 42,
   "id": "50760279",
   "metadata": {},
   "outputs": [],
   "source": [
    "\n",
    "from langchain_chroma import Chroma\n",
    "from langchain_ollama import OllamaEmbeddings\n",
    "embeddings =OllamaEmbeddings(model=\"nomic-embed-text\")"
   ]
  },
  {
   "cell_type": "code",
   "execution_count": 43,
   "id": "6c351b7a",
   "metadata": {},
   "outputs": [],
   "source": [
    "vectorDB =Chroma.from_documents(documents,embeddings)"
   ]
  },
  {
   "cell_type": "code",
   "execution_count": 44,
   "id": "306430c5",
   "metadata": {},
   "outputs": [
    {
     "data": {
      "text/plain": [
       "[Document(id='a02d00ec-0e5d-4186-90d1-d29d03666b7b', metadata={'creator': 'Elsevier', 'page': 5, 'creationdate--text': '26th September 2025', 'author': 'Gaurav Singh Negi', 'producer': 'Acrobat Distiller 8.1.0 (Windows)', 'crossmarkdomains[1]': 'elsevier.com', 'moddate': '2025-09-26T16:37:55+00:00', 'keywords': 'Microgrid management,Machine learning applications,Edge computing,Federated learning,Generative AI,Renewable energy,Fault detection,Load prediction,Sustainable energy systems', 'creationdate': '2025-09-26T16:27:47+00:00', 'source': 'Research papers for BSCS.pdf', 'title': 'Leveraging machine learning for optimized microgrid management: Advances, applications, challenges, and future directions', 'doi': '10.1016/j.rser.2025.116345', 'crossmarkdomains[2]': 'sciencedirect.com', 'total_pages': 14, 'elsevierwebpdfspecifications': '7.0.1', 'page_label': '6', 'subject': 'Renewable and Sustainable Energy Reviews, 226 (2026) 116345. doi:10.1016/j.rser.2025.116345', 'robots': 'noindex'}, page_content='struggle with real-time applications due to higher computational times. \\nOverall, the choice of algorithm depends on the specific microgrid \\napplication and the need for real-time performance (see Fig. 4 ).\\n4. Key applications of machine learning in microgrids'),\n",
       " Document(id='8682f5a5-22d4-4684-ac0b-70be1a184901', metadata={'source': 'Research papers for BSCS.pdf', 'total_pages': 14, 'author': 'Gaurav Singh Negi', 'page_label': '6', 'crossmarkdomains[1]': 'elsevier.com', 'creator': 'Elsevier', 'elsevierwebpdfspecifications': '7.0.1', 'subject': 'Renewable and Sustainable Energy Reviews, 226 (2026) 116345. doi:10.1016/j.rser.2025.116345', 'producer': 'Acrobat Distiller 8.1.0 (Windows)', 'moddate': '2025-09-26T16:37:55+00:00', 'creationdate--text': '26th September 2025', 'page': 5, 'creationdate': '2025-09-26T16:27:47+00:00', 'doi': '10.1016/j.rser.2025.116345', 'robots': 'noindex', 'title': 'Leveraging machine learning for optimized microgrid management: Advances, applications, challenges, and future directions', 'keywords': 'Microgrid management,Machine learning applications,Edge computing,Federated learning,Generative AI,Renewable energy,Fault detection,Load prediction,Sustainable energy systems', 'crossmarkdomains[2]': 'sciencedirect.com'}, page_content='Overall, the choice of algorithm depends on the specific microgrid \\napplication and the need for real-time performance (see Fig. 4 ).\\n4. Key applications of machine learning in microgrids\\nAPLA (Algorithm performance and learning analysis) Spelling Al -\\ngorithm Analysis: Machine learning (ML), or the use of algorithms which \\nallow computers to learn and make predictions based on data rather \\nthan being directly programmed, is important for a variety of reasons. \\nAmong them are demand response management, energy optimization, \\nfault detection and load forecasting. Fig. 5 demonstrates the main ap -\\nplications of machine learning in microgrids as indicated by research \\npapers.\\nMachine learning has made significant improvements in microgrid \\nenergy distribution and storage through its data-driven insights and \\nprediction capabilities. To evaluate the historical and current weather, \\nenergy production, and consumption trends, some algorithms such as \\nregression models, neural networks, and reinforcement learning are \\napplied. Among other things, these models are able to effectively \\nschedule distributed energy resources (DERs), predict electricity de -\\nmand and control the systems used for storing energy. Machine learning \\ncan determine the peak demand periods and adjust energy storage \\naccordingly to ensure the excess energy is stored during low demand \\nperiods and released at peak times. This optimization minimizes the \\ndependency on non-renewable energy sources, reduces operational costs \\nand enhances grid stability. A study showed that using machine learning \\nin managing microgrid energy led to increased energy efficiency by 15 % \\nwhile reducing energy costs by 20 % [ 52 ]. Advancement in energy \\nmanagement technologies is aiming at global energy efficiency and \\nsustainability goals and is resulting to resilient and sustainable power \\nsystem. Demand response or machine learning approaches are the major'),\n",
       " Document(id='eb4688b9-e945-485d-9412-259d980ec0f9', metadata={'source': 'Research papers for BSCS.pdf', 'moddate': '2025-09-26T16:37:55+00:00', 'creator': 'Elsevier', 'producer': 'Acrobat Distiller 8.1.0 (Windows)', 'page_label': '6', 'creationdate': '2025-09-26T16:27:47+00:00', 'total_pages': 14, 'page': 5, 'creationdate--text': '26th September 2025', 'crossmarkdomains[2]': 'sciencedirect.com', 'title': 'Leveraging machine learning for optimized microgrid management: Advances, applications, challenges, and future directions', 'robots': 'noindex', 'keywords': 'Microgrid management,Machine learning applications,Edge computing,Federated learning,Generative AI,Renewable energy,Fault detection,Load prediction,Sustainable energy systems', 'subject': 'Renewable and Sustainable Energy Reviews, 226 (2026) 116345. doi:10.1016/j.rser.2025.116345', 'author': 'Gaurav Singh Negi', 'doi': '10.1016/j.rser.2025.116345', 'elsevierwebpdfspecifications': '7.0.1', 'crossmarkdomains[1]': 'elsevier.com'}, page_content='methods of defect recognition can be ensured by machine learning \\nmodels, thus making sure the microgrid operates safely and smoothly. \\nThey accomplish this through constant system monitoring as well as \\nimmediate data examination. Fig. 6 showcases the process of fault \\ndetection and diagnosis in microgrids, incorporating various machine \\nlearning techniques to enhance accuracy and response time.\\n4.2. Renewable energy resources integration\\nIn orders to optimize the configuration of renewable power lines into \\nmicrogrids, machine learning (ML) techniques are required for their \\nmanagement. Machine learning (ML) models like neural networks, \\nreinforcement learning, and regression algorithms are utilized to \\nG.S. Negi et al.                                                                                                                                                                                                                                  Renewable and Sustainable Energy Reviews 226 (2026) 116345 \\n6'),\n",
       " Document(id='765474f9-3ce2-4a6b-8c24-196441a260fa', metadata={'doi': '10.1016/j.rser.2025.116345', 'creationdate': '2025-09-26T16:27:47+00:00', 'title': 'Leveraging machine learning for optimized microgrid management: Advances, applications, challenges, and future directions', 'crossmarkdomains[2]': 'sciencedirect.com', 'crossmarkdomains[1]': 'elsevier.com', 'elsevierwebpdfspecifications': '7.0.1', 'producer': 'Acrobat Distiller 8.1.0 (Windows)', 'page_label': '2', 'creator': 'Elsevier', 'author': 'Gaurav Singh Negi', 'moddate': '2025-09-26T16:37:55+00:00', 'creationdate--text': '26th September 2025', 'keywords': 'Microgrid management,Machine learning applications,Edge computing,Federated learning,Generative AI,Renewable energy,Fault detection,Load prediction,Sustainable energy systems', 'page': 1, 'robots': 'noindex', 'total_pages': 14, 'source': 'Research papers for BSCS.pdf', 'subject': 'Renewable and Sustainable Energy Reviews, 226 (2026) 116345. doi:10.1016/j.rser.2025.116345'}, page_content='Learning Overcomes Them in Microgrid Management.\\n• Enhance Microgrid Performance: Emphasize how machine \\nlearning can help microgrid systems operate more sustainably, effi -\\nciently, and dependably.\\n• Promote UN SDGs: Show how machine learning applications in \\nmicrogrids help to accomplish several UN Sustainable Development \\nGoals.\\nTo further deepen the state-of-the-art review and clarify the unique \\ncontributions of this work, Table 1 presents a comparative analysis of \\nexisting studies on machine learning applications in microgrid man -\\nagement. The comparison outlines the focus areas, machine learning \\ntechniques covered, key strengths, and limitations of each study. This \\ntable highlights the distinct value of the current work in integrating a \\nwider array of ML methods, providing performance-based analysis, and \\naligning with real-world case studies and sustainable development ob -\\njectives.(see. Fig. 1 )\\nThe organization of the manuscript is structured as depicted in Fig. 2 .\\nSince current microgrids use renewable energy sources, which are by \\ntheir very nature unpredictable and variable, traditional energy man -\\nagement techniques are unable to keep up with their complexity. It is \\nchallenging to guarantee a steady and effective power supply in \\nG.S. Negi et al.                                                                                                                                                                                                                                  Renewable and Sustainable Energy Reviews 226 (2026) 116345 \\n2')]"
      ]
     },
     "execution_count": 44,
     "metadata": {},
     "output_type": "execute_result"
    }
   ],
   "source": [
    "query =\"which is Machine learning techniques in microgrids?\"\n",
    "\n",
    "result= vectorDB.similarity_search(query=query,k=4)\n",
    "result"
   ]
  },
  {
   "cell_type": "code",
   "execution_count": 59,
   "id": "caf0945a",
   "metadata": {},
   "outputs": [],
   "source": [
    "# Create the chains\n",
    "# Design ChatPrompt Templete\n",
    "\n",
    "from langchain_core.prompts import ChatPromptTemplate\n",
    "\n",
    "prompt =ChatPromptTemplate.from_template(\n",
    "    \"\"\"\n",
    "    You are an expert research assistant. Use the following context to answer the question.\n",
    "    If the answer cannot be found in the context, say \"The answer is not available in the provided documents.\"\n",
    "    \n",
    "    <context>\n",
    "    {context} \n",
    "    </context>\n",
    "    \n",
    "    Question:{input}\n",
    "    \"\"\"\n",
    ")\n",
    "\n",
    "#Context --> means all data or documents which are available in my vector store\n",
    "# Input --> Querys (Which user ask)\n"
   ]
  },
  {
   "cell_type": "code",
   "execution_count": 60,
   "id": "3d887546",
   "metadata": {},
   "outputs": [],
   "source": [
    "import os\n",
    "from dotenv import load_dotenv\n",
    "load_dotenv()\n",
    "\n",
    "GROQ_API_KEY=os.environ.get('GROQ_API_KEY')\n",
    "from langchain_groq import ChatGroq\n",
    "llm=ChatGroq(model=\"openai/gpt-oss-20b\")"
   ]
  },
  {
   "cell_type": "code",
   "execution_count": 56,
   "id": "246534bf",
   "metadata": {},
   "outputs": [],
   "source": [
    "# Non RAG Question\n",
    "res=llm.invoke(\"what is categories of microgrids?\")"
   ]
  },
  {
   "cell_type": "code",
   "execution_count": 57,
   "id": "bc3fe1cc",
   "metadata": {},
   "outputs": [
    {
     "data": {
      "text/plain": [
       "AIMessage(content='## The “Family Tree” of Microgrids  \\nBelow is a practical, multi‑dimensional way to think about microgrid categories.  \\nThe same system can belong to several of these families at once, but the taxonomy\\nhelps designers, planners, regulators, and researchers talk about the right\\nfeatures, constraints, and use‑cases.\\n\\n| **Dimension** | **Typical Sub‑Categories** | **What It Means** | **Typical Use‑Case / Example** |\\n|---------------|----------------------------|-------------------|------------------------------|\\n| **Size / Capacity** | •\\u202fMini‑grid (<\\u202f100\\u202fkW)  <br>•\\u202fMicrogrid (100\\u202fkW\\u202f–\\u202f10\\u202fMW) <br>•\\u202fLarge‑scale microgrid (>\\u202f10\\u202fMW) | Physical power handling & complexity | •\\u202fSolar + battery for a single building <br>•\\u202fCampus‑wide 1‑MW solar + diesel <br>•\\u202fIndustrial plant 20‑MW with multiple sources |\\n| **Energy Source Mix** | •\\u202fRenewable‑centric (solar, wind, hydro) <br>•\\u202fDispatchable‑centric (diesel, gas turbine) <br>•\\u202fStorage‑centric (battery, flywheel) <br>•\\u202fHybrid (any mix) | Where the bulk of generation comes from | •\\u202fOff‑grid island with 80\\u202f% solar <br>•\\u202fRemote village with diesel + wind <br>•\\u202fCommercial facility with battery + PV |\\n| **Connectivity / Operation Mode** | •\\u202fGrid‑connected (always tied to the main grid) <br>•\\u202fIslandable (can disconnect and operate autonomously) <br>•\\u202fHybrid (switches between modes) | Ability to island and the primary mode of operation | •\\u202fUtility‑backup microgrid <br>•\\u202fCampus microgrid that can island during outages |\\n| **Control Architecture** | •\\u202fHierarchical (primary, secondary, tertiary control layers) <br>•\\u202fDistributed / Peer‑to‑Peer (each resource has local intelligence) <br>•\\u202fAutonomous (no central controller) | How decisions are made & coordinated | •\\u202fTraditional utility‑controlled microgrid <br>•\\u202fCommunity microgrid with local controllers <br>•\\u202fSmall solar‑battery system with local droop control |\\n| **Topology / Network Layout** | •\\u202fRadial (simple, tree‑like) <br>•\\u202fMeshed (redundant paths) <br>•\\u202fHybrid (radial core, meshed periphery) | Physical wiring and reliability | •\\u202fResidential neighborhood radial <br>•\\u202fIndustrial plant meshed for resilience |\\n| **Application / Sector** | •\\u202fResidential / Community <br>•\\u202fCommercial / Retail <br>•\\u202fIndustrial <br>•\\u202fCampus / University <br>•\\u202fMilitary / Defense <br>•\\u202fRemote / Off‑grid (islands, rural) | End‑user environment | •\\u202fSub‑urban solar + storage <br>•\\u202fShopping mall microgrid <br>•\\u202fPower plant microgrid for a steel mill <br>•\\u202fUniversity campus microgrid <br>•\\u202fNaval base microgrid <br>•\\u202fIsland village microgrid |\\n| **Primary Purpose / Value Driver** | •\\u202fReliability / Resilience (backup, critical loads) <br>•\\u202fCost Reduction (energy arbitrage, peak shaving) <br>•\\u202fRenewable Integration (curtailment reduction) <br>•\\u202fGrid Support (frequency, voltage regulation) <br>•\\u202fEnvironmental / Policy (GHG reduction, net‑zero targets) | The business or policy motivation | •\\u202fHospital microgrid for reliability <br>•\\u202fData center microgrid for cost <br>•\\u202fWind farm microgrid to reduce curtailment <br>•\\u202fUtility microgrid to provide ancillary services |\\n| **Governance / Ownership** | •\\u202fPublic (municipal, utility‑owned) <br>•\\u202fPrivate (corporate) <br>•\\u202fCooperative / Community <br>•\\u202fHybrid (public‑private partnership) | Who owns, operates, and pays for the system | •\\u202fCity‑owned microgrid <br>•\\u202fCorporate campus microgrid <br>•\\u202fCommunity cooperative microgrid <br>•\\u202fUtility‑private partnership for a university |\\n| **Regulatory / Market Participation** | •\\u202fNon‑market (stand‑alone, no grid interaction) <br>•\\u202fMarket‑participating (energy arbitrage, ancillary services) <br>•\\u202fRegulated (utility‑approved, grid‑code compliant) | Whether the microgrid can sell power or services | •\\u202fRural off‑grid microgrid <br>•\\u202fMicrogrid that participates in a wholesale market <br>•\\u202fGrid‑connected microgrid under a distribution‑utility tariff |\\n\\n---\\n\\n### Quick Reference Cheat Sheet\\n\\n| Category | Typical Labels | Key Decision Factors |\\n|----------|----------------|----------------------|\\n| **Size** | Mini‑grid, Microgrid, Large‑scale | Load size, complexity, regulatory thresholds |\\n| **Source** | Renewable‑centric, Dispatchable‑centric, Hybrid | Availability of local resources, cost of fuel |\\n| **Mode** | Grid‑connected, Islandable, Hybrid | Reliability requirements, grid support |\\n| **Control** | Hierarchical, Distributed, Autonomous | System complexity, operator expertise |\\n| **Topology** | Radial, Meshed | Redundancy needs, cost of cabling |\\n| **Sector** | Residential, Commercial, Industrial, Campus, Military, Remote | Load profile, security, regulatory environment |\\n| **Purpose** | Reliability, Cost, Renewable, Grid Support, Environmental | Business case, policy incentives |\\n| **Governance** | Public, Private, Cooperative, Hybrid | Funding sources, stakeholder alignment |\\n| **Market** | Non‑market, Market‑participating, Regulated | Tariff structure, grid code compliance |\\n\\n---\\n\\n## How to Use These Categories\\n\\n1. **Design & Planning** – Start with the *size* and *sector* to determine the baseline system scope.  \\n2. **Resource Assessment** – Choose the *source mix* that fits local resource availability and cost.  \\n3. **Control Strategy** – Pick *control architecture* that matches the complexity you can manage (or outsource).  \\n4. **Connectivity Decision** – Decide on *mode* based on reliability needs and grid‑code requirements.  \\n5. **Topology** – Design the network layout that balances reliability and cost.  \\n6. **Business Case** – Align *purpose* and *market* participation to unlock incentives or revenue streams.  \\n7. **Governance** – Clarify ownership and operation models early to secure funding and regulatory approvals.\\n\\n---\\n\\n## Common Misconceptions\\n\\n| Misconception | Reality |\\n|---------------|---------|\\n| “Microgrid = off‑grid” | Many microgrids are grid‑connected and only island when needed. |\\n| “All microgrids are renewable” | Dispatchable generators (diesel, gas) are common, especially in remote or reliability‑critical sites. |\\n| “Microgrid control is always centralized” | Distributed and autonomous control is increasingly common, especially for small or community projects. |\\n| “Size is the only important dimension” | Size matters, but the *source mix*, *mode*, and *purpose* can be equally critical. |\\n\\n---\\n\\n## Quick Glossary\\n\\n- **Mini‑grid** – <\\u202f100\\u202fkW, usually a single building or small cluster.  \\n- **Microgrid** – 100\\u202fkW\\u202f–\\u202f10\\u202fMW, can serve a campus or small town.  \\n- **Macrogrid** – >\\u202f10\\u202fMW, often part of a larger regional system.  \\n- **Islandable** – System can disconnect and maintain local power.  \\n- **Droop control** – Primary control that adjusts power output based on frequency/voltage.  \\n- **Ancillary services** – Frequency regulation, voltage support, spinning reserve.  \\n\\n---\\n\\n## Take‑away\\n\\nMicrogrids are not a single, one‑size‑fits‑all technology.  \\nThey are a **family** of systems that can be classified along multiple axes:\\n\\n1. **Size** (mini‑grid, microgrid, large‑scale)  \\n2. **Source mix** (renewable, dispatchable, storage)  \\n3. **Connectivity** (grid‑connected, islandable, hybrid)  \\n4. **Control** (hierarchical, distributed, autonomous)  \\n5. **Topology** (radial, meshed)  \\n6. **Sector** (residential, commercial, industrial, campus, military, remote)  \\n7. **Purpose** (reliability, cost, renewable integration, grid support, environmental)  \\n8. **Governance** (public, private, cooperative, hybrid)  \\n9. **Market participation** (non‑market, market‑participating, regulated)  \\n\\nUnderstanding where a given project sits in this taxonomy helps you pick the right technology, control strategy, financing model, and regulatory path. Use the table above as a quick reference, and then drill down into the specific dimensions that matter most for your application.', additional_kwargs={'reasoning_content': 'The user asks: \"what is categories of microgrids?\" They likely want an explanation of categories of microgrids. They might want the classification based on different criteria: e.g., based on size, purpose, control, source, connectivity, etc. Provide categories: based on size (small, medium, large), based on control (centralized, decentralized), based on source (renewable-based, dispatchable-based), based on operation mode (grid-connected, islanded, hybrid), based on application (industrial, residential, military, remote), based on energy sources (solar, wind, hydro, diesel, storage). Also categories based on control architecture: hierarchical, distributed, etc.\\n\\nAlso categories by integration: independent microgrid, connected microgrid, hybrid. Also categories by control strategy: hierarchical, distributed, etc.\\n\\nAlso categories by topology: radial, meshed. Also categories by market participation: commercial, residential, etc.\\n\\nThey ask \"what is categories of microgrids?\" So we need to give a comprehensive answer. Provide categories based on size, purpose, control, connectivity, sources, topology, and maybe market. Provide examples and maybe diagrams. Also mention the difference between microgrid and mini-grid. Provide references.\\n\\nLet\\'s structure: 1) Size: small, medium, large. 2) Control architecture: hierarchical, distributed, autonomous. 3) Operation mode: grid-connected, islanded, hybrid. 4) Energy sources: renewable, dispatchable, storage. 5) Application: industrial, residential, campus, military, remote. 6) Topology: radial, mesh. 7) Integration: independent, integrated. 8) Market role: energy arbitrage, frequency regulation, demand response, etc.\\n\\nAlso categories by purpose: reliability, resilience, cost reduction, renewable integration. Provide a table summarizing categories.\\n\\nAlso mention microgrid classification by connectivity: stand-alone, grid-connected, hybrid. Provide definitions.\\n\\nAlso mention categories by control: hierarchical (primary, secondary, tertiary), distributed (peer-to-peer). Provide examples.\\n\\nAlso mention categories by energy management: price-based, demand-based, etc.\\n\\nAlso mention categories by governance: public, private, cooperative.\\n\\nAlso mention categories by location: urban, rural, island.\\n\\nAlso mention categories by technology: power electronics, storage, smart grid.\\n\\nAlso mention categories by regulatory: commercial, industrial, residential.\\n\\nAlso mention categories by size of load: <1 MW, 1-10 MW, >10 MW.\\n\\nAlso mention categories by power quality: voltage support, frequency support.\\n\\nAlso mention categories by integration with the grid: microgrid as a resource.\\n\\nAlso mention categories by control strategy: droop control, virtual inertia, etc.\\n\\nWe should also mention that categories can overlap.\\n\\nThe user likely expects a concise but thorough answer. Provide bullet points, tables, maybe diagrams.\\n\\nLet\\'s answer.\\n\\nWe might also mention that microgrid classification can be done by:\\n\\n- Purpose: reliability, resilience, cost savings, renewable integration.\\n- Size: small (<1MW), medium (1-10MW), large (>10MW).\\n- Source: renewable-dominated, dispatchable-dominated, storage-dominated.\\n- Connectivity: islandable, grid-connected, hybrid.\\n- Control: hierarchical, distributed, autonomous.\\n- Topology: radial, meshed.\\n- Application: residential, commercial, industrial, campus, military, remote.\\n\\nWe can combine into categories: \"Size-based,\" \"Source-based,\" \"Connectivity-based,\" \"Control-based,\" \"Topology-based,\" \"Application-based,\" \"Purpose-based.\"\\n\\nWe can also mention that the classification can be used for design, planning, operation.\\n\\nWe can provide examples: e.g., a 100kW solar + battery microgrid on a campus; a 5MW wind + diesel microgrid in a remote village; a 50MW industrial microgrid integrated with the grid; a 500kW microgrid for a military base.\\n\\nAlso mention that microgrid can be classified as \"microgrid with renewable energy sources\" vs. \"microgrid with dispatchable generators.\" Provide explanation.\\n\\nAlso mention that some authors classify microgrids as \"microgrid types: generation-based, load-based, storage-based.\"\\n\\nWe should answer in a structured way: categories, definitions, examples, maybe a table.\\n\\nAlso mention that some frameworks use \"microgrid classification by control hierarchy: primary, secondary, tertiary,\" etc.\\n\\nAlso mention that \"microgrid can be classified by its integration with the main grid: islandable, non-islandable.\"\\n\\nAlso mention \"microgrid can be classified by its purpose: reliability, resilience, cost reduction, renewable integration.\"\\n\\nOk.\\n\\nLet\\'s produce a comprehensive answer.'}, response_metadata={'token_usage': {'completion_tokens': 2874, 'prompt_tokens': 79, 'total_tokens': 2953, 'completion_time': 2.822407714, 'prompt_time': 0.003867816, 'queue_time': 0.04234998, 'total_time': 2.82627553}, 'model_name': 'openai/gpt-oss-20b', 'system_fingerprint': 'fp_77f8660d1d', 'service_tier': 'on_demand', 'finish_reason': 'stop', 'logprobs': None}, id='run--9ae12f81-4ac9-450b-8322-6003c4b0c47b-0', usage_metadata={'input_tokens': 79, 'output_tokens': 2874, 'total_tokens': 2953})"
      ]
     },
     "execution_count": 57,
     "metadata": {},
     "output_type": "execute_result"
    }
   ],
   "source": [
    "res"
   ]
  },
  {
   "cell_type": "code",
   "execution_count": 61,
   "id": "0361b5c7",
   "metadata": {},
   "outputs": [],
   "source": [
    "from langchain.chains.combine_documents import create_stuff_documents_chain\n",
    "from langchain_core.output_parsers import StrOutputParser\n",
    "parser=StrOutputParser()\n",
    "documents_chain =create_stuff_documents_chain(llm,prompt)\n",
    "retiever=vectorDB.as_retriever()\n"
   ]
  },
  {
   "cell_type": "code",
   "execution_count": 62,
   "id": "2365480e",
   "metadata": {},
   "outputs": [],
   "source": [
    "#Combine the retiever and chain\n",
    "from langchain.chains import create_retrieval_chain\n",
    "\n",
    "retrieval_chain =create_retrieval_chain(retiever,documents_chain)\n"
   ]
  },
  {
   "cell_type": "code",
   "execution_count": 55,
   "id": "040ed4c0",
   "metadata": {},
   "outputs": [
    {
     "data": {
      "text/plain": [
       "{'input': 'what is microgrids?',\n",
       " 'context': [Document(id='d199a87e-ff9d-47e5-be6c-fbc2de037a3a', metadata={'producer': 'Acrobat Distiller 8.1.0 (Windows)', 'elsevierwebpdfspecifications': '7.0.1', 'total_pages': 14, 'moddate': '2025-09-26T16:37:55+00:00', 'author': 'Gaurav Singh Negi', 'page_label': '2', 'source': 'Research papers for BSCS.pdf', 'creationdate': '2025-09-26T16:27:47+00:00', 'keywords': 'Microgrid management,Machine learning applications,Edge computing,Federated learning,Generative AI,Renewable energy,Fault detection,Load prediction,Sustainable energy systems', 'title': 'Leveraging machine learning for optimized microgrid management: Advances, applications, challenges, and future directions', 'creator': 'Elsevier', 'doi': '10.1016/j.rser.2025.116345', 'crossmarkdomains[2]': 'sciencedirect.com', 'page': 1, 'crossmarkdomains[1]': 'elsevier.com', 'creationdate--text': '26th September 2025', 'subject': 'Renewable and Sustainable Energy Reviews, 226 (2026) 116345. doi:10.1016/j.rser.2025.116345', 'robots': 'noindex'}, page_content='The importance of microgrids has increased as nations work to produce \\ncleaner energy and become more resilient to the effects of climate \\nchange. Microgrids are flexible, specialized networks that can function \\nindependently or in tandem with the main grid, in contrast to traditional \\ngrids. Energy sustainability and dependability are improved by using \\nrenewable energy sources like wind and solar. As autonomous entities, \\nas well as in concert with the main power grid, microgrids can operate \\n[ 1 ]. They combine several distributed energy resources, particularly \\nsolar panels, wind turbines, batteries, and generators, which provide a \\nconstant, efficient, and robust energy supply to a given locale [ 2 ]. \\nMicrogrids can provide power for a single building, campus, or entire \\ntowns to enhance energy security, reduces environmental impact, and \\nenhance power quality. They are major players in modern power sys -\\ntems since they address a variety of significant problems. For instance, \\ntheir improvement of energy security by operating in isolation during \\nthe blocking of the connections between power plants and transmission \\nlines guarantees the continuous provision of electricity for hospitals ’ \\ncritical networks and defense forces [ 3 ]. Microgrids also help in pro -\\ngressing towards a sustainable energy future by involving renewable \\nenergy sources, lowering greenhouse gas emissions, and decreasing \\nreliance on fossil fuels [ 4 ]. Also, when such things as cyber-attacks or \\neven natural disasters are less likely to occur, microgrids can improve \\ngrid resilience through localized control and flexibility [ 5 ]. Addition -\\nally, through their functions in demand response programs, microgrids \\nreduce the amount of money consumers spend on energy and enhance \\ngeneral grid efficiency, thus optimizing energy management for eco -\\nnomic viability [ 6 ]. Lastly, they are one of the ways to update our power'),\n",
       "  Document(id='1f7329f1-86d7-48dc-80b2-484aa0514cd9', metadata={'elsevierwebpdfspecifications': '7.0.1', 'doi': '10.1016/j.rser.2025.116345', 'page': 9, 'title': 'Leveraging machine learning for optimized microgrid management: Advances, applications, challenges, and future directions', 'robots': 'noindex', 'crossmarkdomains[1]': 'elsevier.com', 'creationdate': '2025-09-26T16:27:47+00:00', 'creationdate--text': '26th September 2025', 'page_label': '10', 'author': 'Gaurav Singh Negi', 'total_pages': 14, 'source': 'Research papers for BSCS.pdf', 'crossmarkdomains[2]': 'sciencedirect.com', 'moddate': '2025-09-26T16:37:55+00:00', 'producer': 'Acrobat Distiller 8.1.0 (Windows)', 'keywords': 'Microgrid management,Machine learning applications,Edge computing,Federated learning,Generative AI,Renewable energy,Fault detection,Load prediction,Sustainable energy systems', 'subject': 'Renewable and Sustainable Energy Reviews, 226 (2026) 116345. doi:10.1016/j.rser.2025.116345', 'creator': 'Elsevier'}, page_content='improve microgrid operations, including cybersecurity, voltage \\nstabilization, load forecasting, and fault detection. Microgrids are'),\n",
       "  Document(id='85344973-0f25-466c-8f13-deedad240cda', metadata={'doi': '10.1016/j.rser.2025.116345', 'creator': 'Elsevier', 'producer': 'Acrobat Distiller 8.1.0 (Windows)', 'title': 'Leveraging machine learning for optimized microgrid management: Advances, applications, challenges, and future directions', 'crossmarkdomains[1]': 'elsevier.com', 'creationdate': '2025-09-26T16:27:47+00:00', 'total_pages': 14, 'keywords': 'Microgrid management,Machine learning applications,Edge computing,Federated learning,Generative AI,Renewable energy,Fault detection,Load prediction,Sustainable energy systems', 'source': 'Research papers for BSCS.pdf', 'creationdate--text': '26th September 2025', 'author': 'Gaurav Singh Negi', 'page_label': '3', 'elsevierwebpdfspecifications': '7.0.1', 'crossmarkdomains[2]': 'sciencedirect.com', 'moddate': '2025-09-26T16:37:55+00:00', 'subject': 'Renewable and Sustainable Energy Reviews, 226 (2026) 116345. doi:10.1016/j.rser.2025.116345', 'robots': 'noindex', 'page': 2}, page_content='microgrids because of this difficulty, which complicates load balancing, \\nfrequency management, and resource allocation. The real-time data \\ninflux from smart devices and distributed energy resources (DERs) \\nwithin a microgrid is another area where conventional methods fall \\nshort, frequently resulting in inefficiencies and increased operating \\ncosts.\\n2. Overview of microgrids\\nMicrogrids, also termed Local Energy Systems, are decentralized \\nelectric power systems that can operate in parallel and independently \\nwith the national electricity grid. This is to say that within a specified \\ngeographical area, ranging from a building to an entire town, various \\ntypes of distributed energy resources (DERs) inclusive of batteries, solar \\npanels, wind turbines, and generators can be harmonized to deliver \\nsecure, clean, and reliable power 21A microgrid is made up of batteries- \\nbased energy storage systems, generating units and control systems. \\nDiesel generators are included under energy sources, while solar \\nphotovoltaic cell layers were also installed. Storage of extra energy using \\nbatteries is important for ensuring an adequate supply at different pe -\\nriods [ 19 ]. The microgrid ’ s operations are overseen by control systems. \\nThese control systems consist of complex hardware and software that \\nensure their peak performance. They also make it possible to carry out \\nreal-time monitoring and energy management as well as smooth tran -\\nsition between islanded and grid-connected modes [ 20 ]. Therefore, \\nmicrogrids can reduce their environmental footprint while improving \\npower quality and increasing energy security … Control systems are \\ncrucial for overseeing the microgrid ’ s operations, guaranteeing peak \\nperformance, and preserving stability [ 21 ]. They comprise sophisticated \\nhardware and software. Real-time monitoring, energy management, and \\na smooth transition between islanded and grid-connected modes are \\nmade possible by these control systems (see Fig. 3 )'),\n",
       "  Document(id='4dc7bb37-4b86-44f2-98fd-a93104e6f906', metadata={'producer': 'Acrobat Distiller 8.1.0 (Windows)', 'subject': 'Renewable and Sustainable Energy Reviews, 226 (2026) 116345. doi:10.1016/j.rser.2025.116345', 'total_pages': 14, 'creationdate': '2025-09-26T16:27:47+00:00', 'title': 'Leveraging machine learning for optimized microgrid management: Advances, applications, challenges, and future directions', 'page_label': '3', 'author': 'Gaurav Singh Negi', 'source': 'Research papers for BSCS.pdf', 'creationdate--text': '26th September 2025', 'elsevierwebpdfspecifications': '7.0.1', 'doi': '10.1016/j.rser.2025.116345', 'robots': 'noindex', 'moddate': '2025-09-26T16:37:55+00:00', 'page': 2, 'crossmarkdomains[2]': 'sciencedirect.com', 'crossmarkdomains[1]': 'elsevier.com', 'keywords': 'Microgrid management,Machine learning applications,Edge computing,Federated learning,Generative AI,Renewable energy,Fault detection,Load prediction,Sustainable energy systems', 'creator': 'Elsevier'}, page_content='made possible by these control systems (see Fig. 3 )\\n2.1. Categories of microgrids\\nTable 2 presents variations in operation and features of isolated \\nmicrogrids from those that a connected to the national grid. In this \\nrespect, grid-connected micro-grids bring together other sources of DE \\nand the central power supply while working in concert with it. Economic \\nbenefits are gained by both the supply of extra power back into the main \\nenergy network in normal conditions, as well as the society. EV debts are \\nrestored by charging them when all T & D lines are cut off. Albeit intricate \\ncoordination with the main grid is essential for them. Standalone \\nmicrogrids, on the other hand, independence makes them stronger. \\nInstead, microgrids require strong local energy-generating and storage \\nsystems to keep a continuous flow of electricity. Vital infrastructure in \\nremote places and locations where grid reliability may be a problem is \\none of the ways it is frequently used.\\nManaging and running microgrids present significant challenges if \\none is going to ensure they perform effectively and reliably. One of the \\nobstacles lies in the incorporation of different distributed energy \\nTable 1 \\nComparative analysis of existing literature on ML applications in microgrid management.\\nStudy Focus Area ML Techniques Covered Strengths Limitations\\n[ 1 ] General review on microgrid \\noperations\\nHigh-level overview Broad perspective on control & modeling Lacks algorithm-specific \\nperformance analysis\\n[ 14 ] AI in sustainable energy AI techniques broadly Good SDG alignment No ML-specific case studies or \\nmetrics\\n[ 12 ] Predictive maintenance Supervised learning Clear frameworks for ML deployment Focused on maintenance only\\n[ 5 ] Microgrid resilience Rule-based methods Focus on cyber-physical threats No ML integration\\nThis \\nWork\\nComprehensive ML review for \\nmicrogrids\\nSupervised, Unsupervised, RL, DL, \\nGenerative AI\\nIncludes model comparisons, SDG mapping, case')],\n",
       " 'answer': '**Microgrids – a concise definition**\\n\\nA **microgrid** is a localized, self‑contained electric power system that can operate **either in parallel with the main (national) grid or in isolation (“islanded” mode)**. It integrates a mix of **distributed energy resources (DERs)**—such as solar panels, wind turbines, diesel or gas generators, and energy‑storage devices (batteries)—alongside sophisticated control and monitoring hardware/software.  \\n\\n**Key characteristics**\\n\\n| Feature | What it means | Why it matters |\\n|---------|----------------|----------------|\\n| **Decentralized** | Power is produced and consumed within a defined geographic area (building, campus, town, or remote site). | Reduces transmission losses and enhances local energy security. |\\n| **Flexible operation** | Can switch between grid‑connected and islanded modes. | Provides resilience during grid outages or emergencies (e.g., hospitals, military bases). |\\n| **Hybrid DER mix** | Combines renewables (solar, wind), conventional generators, and storage. | Enables clean, reliable, and continuous power supply. |\\n| **Advanced control systems** | Real‑time monitoring, load forecasting, fault detection, voltage regulation. | Maintains stability, optimizes energy flows, and supports demand‑response programs. |\\n| **Economic & environmental benefits** | Reduces reliance on fossil fuels, cuts greenhouse‑gas emissions, can sell excess power back to the grid. | Improves sustainability and can lower consumer energy costs. |\\n\\nIn short, a microgrid is a **localized, flexible, and intelligent power network** that enhances reliability, sustainability, and resilience by harnessing diverse distributed energy resources and smart control technologies.'}"
      ]
     },
     "execution_count": 55,
     "metadata": {},
     "output_type": "execute_result"
    }
   ],
   "source": [
    "#Ask the query\n",
    "response = retrieval_chain.invoke({\"input\":\"what is microgrids?\"})\n",
    "response"
   ]
  },
  {
   "cell_type": "code",
   "execution_count": 58,
   "id": "a319f400",
   "metadata": {},
   "outputs": [
    {
     "data": {
      "text/plain": [
       "{'input': 'what is categories of microgrids?',\n",
       " 'context': [Document(id='4dc7bb37-4b86-44f2-98fd-a93104e6f906', metadata={'moddate': '2025-09-26T16:37:55+00:00', 'source': 'Research papers for BSCS.pdf', 'elsevierwebpdfspecifications': '7.0.1', 'keywords': 'Microgrid management,Machine learning applications,Edge computing,Federated learning,Generative AI,Renewable energy,Fault detection,Load prediction,Sustainable energy systems', 'page_label': '3', 'crossmarkdomains[1]': 'elsevier.com', 'author': 'Gaurav Singh Negi', 'subject': 'Renewable and Sustainable Energy Reviews, 226 (2026) 116345. doi:10.1016/j.rser.2025.116345', 'crossmarkdomains[2]': 'sciencedirect.com', 'doi': '10.1016/j.rser.2025.116345', 'robots': 'noindex', 'producer': 'Acrobat Distiller 8.1.0 (Windows)', 'title': 'Leveraging machine learning for optimized microgrid management: Advances, applications, challenges, and future directions', 'total_pages': 14, 'creationdate': '2025-09-26T16:27:47+00:00', 'creator': 'Elsevier', 'page': 2, 'creationdate--text': '26th September 2025'}, page_content='made possible by these control systems (see Fig. 3 )\\n2.1. Categories of microgrids\\nTable 2 presents variations in operation and features of isolated \\nmicrogrids from those that a connected to the national grid. In this \\nrespect, grid-connected micro-grids bring together other sources of DE \\nand the central power supply while working in concert with it. Economic \\nbenefits are gained by both the supply of extra power back into the main \\nenergy network in normal conditions, as well as the society. EV debts are \\nrestored by charging them when all T & D lines are cut off. Albeit intricate \\ncoordination with the main grid is essential for them. Standalone \\nmicrogrids, on the other hand, independence makes them stronger. \\nInstead, microgrids require strong local energy-generating and storage \\nsystems to keep a continuous flow of electricity. Vital infrastructure in \\nremote places and locations where grid reliability may be a problem is \\none of the ways it is frequently used.\\nManaging and running microgrids present significant challenges if \\none is going to ensure they perform effectively and reliably. One of the \\nobstacles lies in the incorporation of different distributed energy \\nTable 1 \\nComparative analysis of existing literature on ML applications in microgrid management.\\nStudy Focus Area ML Techniques Covered Strengths Limitations\\n[ 1 ] General review on microgrid \\noperations\\nHigh-level overview Broad perspective on control & modeling Lacks algorithm-specific \\nperformance analysis\\n[ 14 ] AI in sustainable energy AI techniques broadly Good SDG alignment No ML-specific case studies or \\nmetrics\\n[ 12 ] Predictive maintenance Supervised learning Clear frameworks for ML deployment Focused on maintenance only\\n[ 5 ] Microgrid resilience Rule-based methods Focus on cyber-physical threats No ML integration\\nThis \\nWork\\nComprehensive ML review for \\nmicrogrids\\nSupervised, Unsupervised, RL, DL, \\nGenerative AI\\nIncludes model comparisons, SDG mapping, case'),\n",
       "  Document(id='c2523006-131a-4364-90b1-1a202c2c30e4', metadata={'crossmarkdomains[1]': 'elsevier.com', 'robots': 'noindex', 'creationdate--text': '26th September 2025', 'crossmarkdomains[2]': 'sciencedirect.com', 'page_label': '4', 'keywords': 'Microgrid management,Machine learning applications,Edge computing,Federated learning,Generative AI,Renewable energy,Fault detection,Load prediction,Sustainable energy systems', 'subject': 'Renewable and Sustainable Energy Reviews, 226 (2026) 116345. doi:10.1016/j.rser.2025.116345', 'creator': 'Elsevier', 'total_pages': 14, 'doi': '10.1016/j.rser.2025.116345', 'title': 'Leveraging machine learning for optimized microgrid management: Advances, applications, challenges, and future directions', 'author': 'Gaurav Singh Negi', 'elsevierwebpdfspecifications': '7.0.1', 'producer': 'Acrobat Distiller 8.1.0 (Windows)', 'source': 'Research papers for BSCS.pdf', 'moddate': '2025-09-26T16:37:55+00:00', 'creationdate': '2025-09-26T16:27:47+00:00', 'page': 3}, page_content='systems, intricate energy management software, and reliable prediction \\nmodels. In particular, microgrids provide inexpensive, clean power to \\nunderserved and distant regions that are disconnected from the main \\ngrid, thereby promoting universal access to modern, dependable energy \\nservices. Their decentralized structure makes it possible to integrate \\nrenewable energy sources, such as wind and solar, allowing for local \\nclean energy generation, lowering reliance on fossil fuels, and improving \\nenergy security. Microgrids can sustainably close the gap in areas with \\nlimited access to power by lowering dependency on diesel generators \\nand other expensive energy sources, which will eventually lower energy \\ncosts. By enhancing cities ’ resilience and adaptability to energy con -\\nstraints, microgrids also contribute significantly to the goal of sustain -\\nable urban development. Incorporating microgrids into smart cities \\npromotes less environmental impact and provides dependable backup \\npower in the event of natural disasters or grid outages, which is essential \\nFig. 3. Modern microgrid and its main components.\\nTable 2 \\nDistinction between standalone and grid-connected microgrids.\\nFeature Grid-Connected \\nMicrogrids\\nStandalone \\nMicrogrids\\nReferences\\nEnergy Source Can utilize both grid \\npower and local DERs\\nRely solely on local \\nDERs\\n[ 22 , 23 ]\\nResilience Can switch to island \\nmode during grid \\noutages\\nAlways operate in \\nisland mode, \\ninherently more \\nresilient\\n[ 24 , 25 ]\\nEnergy \\nManagement\\nCan export excess \\nenergy to the grid or \\nimport during \\nshortages\\nMust manage all \\nenergy production, \\nstorage, and \\nconsumption \\ninternally\\n[ 26 , 27 ]\\nComplexity More complex due to \\nthe need for \\nsynchronization with \\nthe main grid\\nSimpler in operation, \\nbut may require \\nrobust local \\ngeneration and \\nstorage\\n[ 28 , 29 ]\\nReliability High, as they can draw \\npower from the grid \\nduring shortages\\nDependent on local \\ngeneration and \\nstorage capabilities\\n[ 30 , 31 ]\\nEconomic \\nImpact'),\n",
       "  Document(id='85344973-0f25-466c-8f13-deedad240cda', metadata={'producer': 'Acrobat Distiller 8.1.0 (Windows)', 'page_label': '3', 'creationdate--text': '26th September 2025', 'page': 2, 'source': 'Research papers for BSCS.pdf', 'crossmarkdomains[1]': 'elsevier.com', 'doi': '10.1016/j.rser.2025.116345', 'keywords': 'Microgrid management,Machine learning applications,Edge computing,Federated learning,Generative AI,Renewable energy,Fault detection,Load prediction,Sustainable energy systems', 'subject': 'Renewable and Sustainable Energy Reviews, 226 (2026) 116345. doi:10.1016/j.rser.2025.116345', 'crossmarkdomains[2]': 'sciencedirect.com', 'total_pages': 14, 'creator': 'Elsevier', 'title': 'Leveraging machine learning for optimized microgrid management: Advances, applications, challenges, and future directions', 'elsevierwebpdfspecifications': '7.0.1', 'author': 'Gaurav Singh Negi', 'robots': 'noindex', 'moddate': '2025-09-26T16:37:55+00:00', 'creationdate': '2025-09-26T16:27:47+00:00'}, page_content='microgrids because of this difficulty, which complicates load balancing, \\nfrequency management, and resource allocation. The real-time data \\ninflux from smart devices and distributed energy resources (DERs) \\nwithin a microgrid is another area where conventional methods fall \\nshort, frequently resulting in inefficiencies and increased operating \\ncosts.\\n2. Overview of microgrids\\nMicrogrids, also termed Local Energy Systems, are decentralized \\nelectric power systems that can operate in parallel and independently \\nwith the national electricity grid. This is to say that within a specified \\ngeographical area, ranging from a building to an entire town, various \\ntypes of distributed energy resources (DERs) inclusive of batteries, solar \\npanels, wind turbines, and generators can be harmonized to deliver \\nsecure, clean, and reliable power 21A microgrid is made up of batteries- \\nbased energy storage systems, generating units and control systems. \\nDiesel generators are included under energy sources, while solar \\nphotovoltaic cell layers were also installed. Storage of extra energy using \\nbatteries is important for ensuring an adequate supply at different pe -\\nriods [ 19 ]. The microgrid ’ s operations are overseen by control systems. \\nThese control systems consist of complex hardware and software that \\nensure their peak performance. They also make it possible to carry out \\nreal-time monitoring and energy management as well as smooth tran -\\nsition between islanded and grid-connected modes [ 20 ]. Therefore, \\nmicrogrids can reduce their environmental footprint while improving \\npower quality and increasing energy security … Control systems are \\ncrucial for overseeing the microgrid ’ s operations, guaranteeing peak \\nperformance, and preserving stability [ 21 ]. They comprise sophisticated \\nhardware and software. Real-time monitoring, energy management, and \\na smooth transition between islanded and grid-connected modes are \\nmade possible by these control systems (see Fig. 3 )'),\n",
       "  Document(id='ac9e3fdf-af43-43ae-8602-3890e223ec1b', metadata={'total_pages': 14, 'page_label': '13', 'producer': 'Acrobat Distiller 8.1.0 (Windows)', 'title': 'Leveraging machine learning for optimized microgrid management: Advances, applications, challenges, and future directions', 'creationdate--text': '26th September 2025', 'author': 'Gaurav Singh Negi', 'source': 'Research papers for BSCS.pdf', 'creationdate': '2025-09-26T16:27:47+00:00', 'doi': '10.1016/j.rser.2025.116345', 'page': 12, 'keywords': 'Microgrid management,Machine learning applications,Edge computing,Federated learning,Generative AI,Renewable energy,Fault detection,Load prediction,Sustainable energy systems', 'subject': 'Renewable and Sustainable Energy Reviews, 226 (2026) 116345. doi:10.1016/j.rser.2025.116345', 'creator': 'Elsevier', 'robots': 'noindex', 'elsevierwebpdfspecifications': '7.0.1', 'crossmarkdomains[2]': 'sciencedirect.com', 'moddate': '2025-09-26T16:37:55+00:00', 'crossmarkdomains[1]': 'elsevier.com'}, page_content='enhanced virtual synchronous generator. IEEE Trans Power Electron 2013 .\\n[28] Olivares DE, et al. Trends in microgrid control. IEEE Trans Smart Grid 2014 .\\n[29] Guerrero J, et al. Advanced control architectures for intelligent microgrids—part \\nI: decentralized and hierarchical control. IEEE Trans Ind Electron 2013 .\\n[30] Lasseter RH. Microgrids. Proceedings of the IEEE power engineering Society \\nWinter meeting. 2002 .\\n[31] Katiraei F, Iravani M. Power management strategies for a microgrid with multiple \\ndistributed generation units. IEEE Trans Power Syst 2006 .\\n[32] Braun M. Reactive power supply by distributed generators. IEEE Trans Power Syst \\n2009 .\\n[33] Parhizi S, Lotfi H, Khodaei A, Bahramirad S. State of the art in research on \\nmicrogrids: a review. IEEE Access 2015 .\\n[34] Parag Y, Sovacool B. Electricity market design for the prosumer era. Nat Energy \\n2016 .\\n[35] Beaudin M, Zareipour H, Schellenberg A, Rosehart W. Energy storage for \\nmitigating the variability of renewable electricity sources: an updated review. \\nEnergy Sustain Dev 2010 .\\n[36] Khodaei A, Bahramirad S, Shahidehpour M. Microgrid planning under \\nuncertainty. IEEE Trans Power Syst 2015 .\\n[37] Colson CM, Nehrir MH. Comprehensive real-time microgrid power management \\nand control with distributed agents. IEEE Trans Smart Grid 2013 .\\n[38] Choudhury Subhashree. Review of energy storage system technologies \\nintegration to microgrid: types, control strategies, issues, and prospects. J Energy \\nStorage 2022;48:103966 .\\n[39] Williams Nathaniel J, Jaramillo Paulina, Taneja Jay. An investment risk \\nassessment of microgrid utilities for rural electrification using the stochastic \\ntechno-economic microgrid model: a case study in Rwanda. Energy Sustain Dev \\n2018;42:87–96 .\\n[40] Passey Robert, et al. The potential impacts of grid-connected distributed \\ngeneration and how to address them: a review of technical and non-technical \\nfactors. Energy Policy 2011;39(10):6280–90 .')],\n",
       " 'answer': '**Categories of Microgrids**\\n\\nBased on the provided context, microgrids are primarily classified into **two categories**:\\n\\n| Category | Key Characteristics | Typical Features |\\n|----------|---------------------|------------------|\\n| **Grid‑Connected Microgrids** | Operate in parallel with the main national grid and can switch between island (stand‑alone) mode and grid‑connected mode. | • Can draw power from or export excess power to the main grid.<br>• Provide resilience by islanding during outages.<br>• Require synchronization and control coordination with the main grid. |\\n| **Standalone (Island) Microgrids** | Operate independently of the main grid, relying solely on local distributed energy resources (DERs) and storage. | • Always operate in island mode.<br>• Must manage all generation, storage, and consumption internally.<br>• Simpler in terms of grid‑interface but need robust local generation/storage to ensure reliability. |\\n\\nThese two categories are summarized in **Table\\u202f2** of the context, which contrasts their energy sources, resilience, energy management, complexity, reliability, and economic impact.'}"
      ]
     },
     "execution_count": 58,
     "metadata": {},
     "output_type": "execute_result"
    }
   ],
   "source": [
    "#Ask the query\n",
    "response = retrieval_chain.invoke({\"input\":\"what is categories of microgrids?\"})\n",
    "response"
   ]
  },
  {
   "cell_type": "code",
   "execution_count": 63,
   "id": "9ce30013",
   "metadata": {},
   "outputs": [
    {
     "data": {
      "text/plain": [
       "{'input': 'what is supervised learning? ',\n",
       " 'context': [Document(id='e066d958-f790-442a-9ef4-05b4790c8583', metadata={'page': 8, 'producer': '3-Heights(TM) PDF Optimization Shell 4.8.25.2 (http://www.pdf-tools.com)', 'source': '2019BurkovTheHundred-pageMachineLearning.pdf', 'total_pages': 152, 'moddate': '2019-01-22T19:51:34+00:00', 'creationdate': '2018-12-18T05:07:46+00:00', 'creator': 'PyPDF', 'page_label': '9'}, page_content='1.3 How Supervised Learning Works\\nIn this section, I brieﬂy explain how supervised learning works so that you have the picture\\nof the whole process before we go into detail. I decided to use supervised learning as an\\nexample because it’s the type of machine learning most frequently used in practice.\\nThe supervised learning process starts with gathering the data. The data for supervised\\nlearning is a collection of pairs (input, output). Input could be anything, for example, email\\nmessages, pictures, or sensor measurements. Outputs are usually real numbers, or labels (e.g.\\n“spam”, “not_spam”, “cat”, “dog”, “mouse”, etc). In some cases, outputs are vectors (e.g.,\\nfour coordinates of the rectangle around a person on the picture), sequences (e.g. [“adjective”,\\n“adjective”, “noun”] for the input “big beautiful car”), or have some other structure.\\nLet’s say the problem that you want to solve using supervised learning is spam detection.\\nYou gather the data, for example, 10,000 email messages, each with a label either “spam” or\\n“not_spam” (you could add those labels manually or pay someone to do that for us). Now,\\nyou have to convert each email message into a feature vector.\\nThe data analyst decides, based on their experience, how to convert a real-world entity, such\\nas an email message, into a feature vector. One common way to convert a text into a feature\\nvector, calledbag of words, is to take a dictionary of English words (let’s say it contains\\n20,000 alphabetically sorted words) and stipulate that in our feature vector:\\n• the ﬁrst feature is equal to1 if the email message contains the word “a”; otherwise,\\nthis feature is0;\\n• the second feature is equal to1 if the email message contains the word “aaron”; otherwise,\\nthis feature equals0;\\n• ...\\n• the feature at position 20,000 is equal to1 if the email message contains the word\\n“zulu”; otherwise, this feature is equal to0.\\nYou repeat the above procedure for every email message in our collection, which gives'),\n",
       "  Document(id='6d2f2940-2323-4191-aa8d-f442073f1ef6', metadata={'creationdate': '2018-12-18T05:07:46+00:00', 'page_label': '7', 'moddate': '2019-01-22T19:51:34+00:00', 'producer': '3-Heights(TM) PDF Optimization Shell 4.8.25.2 (http://www.pdf-tools.com)', 'page': 6, 'source': '2019BurkovTheHundred-pageMachineLearning.pdf', 'total_pages': 152, 'creator': 'PyPDF'}, page_content='1 Introduction\\n1.1 What is Machine Learning\\nMachine learning is a subﬁeld of computer science that is concerned with building algorithms\\nwhich, to be useful, rely on a collection of examples of some phenomenon. These examples\\ncan come from nature, be handcrafted by humans or generated by another algorithm.\\nMachine learning can also be deﬁned as the process of solving a practical problem by 1)\\ngathering a dataset, and 2) algorithmically building a statistical model based on that dataset.\\nThat statistical model is assumed to be used somehow to solve the practical problem.\\nTo save keystrokes, I use the terms “learning” and “machine learning” interchangeably.\\n1.2 Types of Learning\\nLearning can be supervised, semi-supervised, unsupervised and reinforcement.\\n1.2.1 Supervised Learning\\nIn supervised learning1,t h edataset is the collection oflabeled examples{(xi,y i)}N\\ni=1.\\nEach elementxi among N is called afeature vector. A feature vector is a vector in which\\neach dimension j =1 ,...,D contains a value that describes the example somehow. That\\nvalue is called afeature and is denoted asx(j). For instance, if each examplex in our\\ncollection represents a person, then the ﬁrst feature,x(1), could contain height in cm, the\\nsecond feature,x(2), could contain weight in kg,x(3) could contain gender, and so on. For all\\nexamples in the dataset, the feature at positionj in the feature vector always contains the\\nsame kind of information. It means that ifx(2)\\ni contains weight in kg in some examplexi,\\nthen x(2)\\nk will also contain weight in kg in every examplexk, k =1 ,...,N .T h elabel yi can\\nbe either an element belonging to a ﬁnite set ofclasses {1, 2,...,C }, or a real number, or a\\nmore complex structure, like a vector, a matrix, a tree, or a graph. Unless otherwise stated,\\nin this bookyi is either one of a ﬁnite set of classes or a real number. You can see a class as\\na category to which an example belongs. For instance, if your examples are email messages'),\n",
       "  Document(id='b43d2b45-35d8-456a-9dfa-435f8fc62ab9', metadata={'source': '2019BurkovTheHundred-pageMachineLearning.pdf', 'producer': '3-Heights(TM) PDF Optimization Shell 4.8.25.2 (http://www.pdf-tools.com)', 'moddate': '2019-01-22T19:51:34+00:00', 'total_pages': 152, 'page': 139, 'page_label': '140', 'creationdate': '2018-12-18T05:07:46+00:00', 'creator': 'PyPDF'}, page_content='That is a very bright idea and not many supervised learning algorithms can boast that they\\noptimize a metric directly. Optimizing a metric is what we really want, but what we do in a\\ntypical supervised learning algorithm is we optimize the cost instead of the metric. Usually,\\nin supervised learning, as soon as we have found a model that optimizes the cost function, we\\ntry to tweak hyperparameters to improve the value of the metric. LambdaMART optimizes\\nthe metric directly.\\nAndriy Burkov The Hundred-Page Machine Learning Book - Draft 6'),\n",
       "  Document(id='7865ce6f-eb48-490e-9fe8-d0c27a7c3efe', metadata={'producer': '3-Heights(TM) PDF Optimization Shell 4.8.25.2 (http://www.pdf-tools.com)', 'source': '2019BurkovTheHundred-pageMachineLearning.pdf', 'page': 100, 'moddate': '2019-01-22T19:51:34+00:00', 'creator': 'PyPDF', 'total_pages': 152, 'page_label': '101', 'creationdate': '2018-12-18T05:07:46+00:00'}, page_content='7.9 Semi-Supervised Learning\\nIn semi-supervised learning(SSL) we also have labeled a small fraction of the dataset;\\nmost of the remaining examples are unlabeled. Our goal is to leverage a large number of\\nunlabeled examples to improve the model performance without asking an expert for additional\\nlabeled examples.\\nHistorically, there were multiple attempts at solving this problem. None of them could be\\ncalled universally acclaimed and frequently used in practice. For example, one frequently\\ncited SSL method is called “self-learning. ” In self-learning, we use a learning algorithm to\\nbuild the initial model using the labeled examples. Then we apply the model to all unlabeled\\nAndriy Burkov The Hundred-Page Machine Learning Book - Draft 16')],\n",
       " 'answer': '**Supervised learning** is a type of machine‑learning approach in which the training data consists of labeled examples \\\\(\\\\{(x_i, y_i)\\\\}_{i=1}^N\\\\).  \\n- Each \\\\(x_i\\\\) is a *feature vector* that describes an instance (e.g., an email, a picture, a sensor reading).  \\n- Each \\\\(y_i\\\\) is the corresponding *output* or *label* (e.g., “spam”/“not_spam”, a real number, a vector, etc.).  \\n\\nThe goal of a supervised‑learning algorithm is to learn a mapping from inputs \\\\(x\\\\) to outputs \\\\(y\\\\) so that it can predict the correct label or value for new, unseen inputs.'}"
      ]
     },
     "execution_count": 63,
     "metadata": {},
     "output_type": "execute_result"
    }
   ],
   "source": [
    "#Ask the query\n",
    "response = retrieval_chain.invoke({\"input\":\"what is supervised learning? \"})\n",
    "response"
   ]
  },
  {
   "cell_type": "code",
   "execution_count": 64,
   "id": "9b9d7a59",
   "metadata": {},
   "outputs": [
    {
     "data": {
      "text/plain": [
       "AIMessage(content='### Supervised Learning – The Basics\\n\\n| Term | What it means |\\n|------|---------------|\\n| **Supervised** | The algorithm is *guided* by labeled data. |\\n| **Learning** | The algorithm adjusts its internal parameters to minimize error. |\\n| **Model** | A mathematical mapping from input features → output predictions. |\\n\\nIn short: **Supervised learning is a type of machine‑learning framework in which a model is trained on a dataset that contains both input data and the correct output (labels).** The goal is for the model to learn a function that can predict the correct label for new, unseen inputs.\\n\\n---\\n\\n## 1. Core Components\\n\\n| Component | Role | Example |\\n|-----------|------|---------|\\n| **Dataset** | Collection of instances | 10,000 images of cats & dogs |\\n| **Features** | Input variables | Pixel values, color histograms |\\n| **Labels** | Target outputs | “cat” or “dog” |\\n| **Model** | Algorithm (e.g., linear regression, neural net) | A convolutional neural network |\\n| **Loss function** | Measure of prediction error | Cross‑entropy loss for classification |\\n| **Optimizer** | Updates model parameters | Stochastic Gradient Descent (SGD) |\\n\\n---\\n\\n## 2. The Training Cycle\\n\\n1. **Feed Input → Model**  \\n   The model receives a feature vector (e.g., an image).\\n\\n2. **Predict Output**  \\n   The model produces a prediction (e.g., probability that the image is a cat).\\n\\n3. **Compute Loss**  \\n   Compare prediction to the true label (e.g., using cross‑entropy).\\n\\n4. **Back‑propagate Error**  \\n   Compute gradients of loss w.r.t. model parameters.\\n\\n5. **Update Parameters**  \\n   Adjust weights using an optimizer (e.g., SGD, Adam).\\n\\n6. **Repeat**  \\n   Iterate over many epochs until loss converges or validation performance stops improving.\\n\\n---\\n\\n## 3. Types of Supervised Tasks\\n\\n| Task | Typical Problem | Common Algorithms |\\n|------|-----------------|-------------------|\\n| **Regression** | Predict a continuous value | Linear regression, Random Forest, Gradient Boosting, Neural networks |\\n| **Classification** | Assign a discrete class | Logistic regression, SVM, Decision trees, CNNs (image), RNNs (text) |\\n| **Multilabel** | Predict multiple independent labels | Multi‑output classifiers, Sigmoid + cross‑entropy |\\n| **Structured Prediction** | Predict structured outputs (sequences, trees) | CRFs, Seq2Seq models |\\n\\n---\\n\\n## 4. Why Use Supervised Learning?\\n\\n| Advantage | Explanation |\\n|-----------|-------------|\\n| **Clear objective** | Labels give a definitive target to optimize toward. |\\n| **Strong theoretical foundations** | Convex loss functions, statistical consistency. |\\n| **Wide applicability** | From spam detection to medical diagnosis. |\\n| **Well‑developed tools** | Scikit‑learn, TensorFlow, PyTorch, XGBoost. |\\n\\n---\\n\\n## 5. Key Challenges\\n\\n| Challenge | Mitigation |\\n|-----------|------------|\\n| **Label noise** | Robust loss functions, data cleaning. |\\n| **Imbalanced classes** | Resampling, class‑weighting, focal loss. |\\n| **Overfitting** | Regularization, dropout, cross‑validation. |\\n| **Feature selection** | Automated feature engineering, tree‑based importance. |\\n\\n---\\n\\n## 6. Supervised vs. Other Paradigms\\n\\n| Paradigm | Main Difference |\\n|----------|-----------------|\\n| **Supervised** | Requires labeled data; learns mapping \\\\(f(x) \\\\to y\\\\). |\\n| **Unsupervised** | No labels; learns structure (e.g., clustering, dimensionality reduction). |\\n| **Semi‑supervised** | Mix of labeled & unlabeled data; leverages both. |\\n| **Reinforcement** | Learns from interaction & rewards; no explicit labels. |\\n\\n---\\n\\n## 7. Quick Example in Python (scikit‑learn)\\n\\n```python\\nfrom sklearn.datasets import load_breast_cancer\\nfrom sklearn.model_selection import train_test_split\\nfrom sklearn.ensemble import RandomForestClassifier\\nfrom sklearn.metrics import accuracy_score\\n\\n# Load data\\nX, y = load_breast_cancer(return_X_y=True)\\n\\n# Train‑test split\\nX_train, X_test, y_train, y_test = train_test_split(\\n    X, y, test_size=0.2, random_state=42\\n)\\n\\n# Train model\\nclf = RandomForestClassifier(n_estimators=200, random_state=42)\\nclf.fit(X_train, y_train)\\n\\n# Predict & evaluate\\ny_pred = clf.predict(X_test)\\nprint(\"Accuracy:\", accuracy_score(y_test, y_pred))\\n```\\n\\n---\\n\\n### TL;DR\\nSupervised learning is the process of teaching a model to map inputs to outputs using a labeled dataset. The algorithm iteratively adjusts its parameters to reduce the difference between its predictions and the true labels, enabling it to generalize to new, unseen data.', additional_kwargs={'reasoning_content': 'We need to explain supervised learning. Likely a brief definition, key concepts, examples, process, types of tasks, difference from unsupervised, etc. Provide clarity.'}, response_metadata={'token_usage': {'completion_tokens': 1092, 'prompt_tokens': 76, 'total_tokens': 1168, 'completion_time': 1.101702218, 'prompt_time': 0.003743344, 'queue_time': 0.042781526, 'total_time': 1.105445562}, 'model_name': 'openai/gpt-oss-20b', 'system_fingerprint': 'fp_3d587a02fb', 'service_tier': 'on_demand', 'finish_reason': 'stop', 'logprobs': None}, id='run--e513c884-dc69-4848-8058-0fb11ca37833-0', usage_metadata={'input_tokens': 76, 'output_tokens': 1092, 'total_tokens': 1168})"
      ]
     },
     "execution_count": 64,
     "metadata": {},
     "output_type": "execute_result"
    }
   ],
   "source": [
    "llm.invoke(\"what is supervised learning ?\")"
   ]
  },
  {
   "cell_type": "code",
   "execution_count": null,
   "id": "428d4263",
   "metadata": {},
   "outputs": [],
   "source": []
  }
 ],
 "metadata": {
  "kernelspec": {
   "display_name": "GenAI",
   "language": "python",
   "name": "python3"
  },
  "language_info": {
   "codemirror_mode": {
    "name": "ipython",
    "version": 3
   },
   "file_extension": ".py",
   "mimetype": "text/x-python",
   "name": "python",
   "nbconvert_exporter": "python",
   "pygments_lexer": "ipython3",
   "version": "3.12.11"
  }
 },
 "nbformat": 4,
 "nbformat_minor": 5
}
